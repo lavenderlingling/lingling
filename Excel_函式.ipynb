{
  "nbformat": 4,
  "nbformat_minor": 0,
  "metadata": {
    "colab": {
      "provenance": []
    },
    "kernelspec": {
      "name": "python3",
      "display_name": "Python 3"
    },
    "language_info": {
      "name": "python"
    }
  },
  "cells": [
    {
      "cell_type": "code",
      "execution_count": null,
      "metadata": {
        "id": "UaiEhhWd54-M"
      },
      "outputs": [],
      "source": [
        "import pandas as pd\n",
        "\n",
        "def excel(file_path, output_path):\n",
        "    data = pd.read_excel(file_path)\n",
        "    def format_order(row):\n",
        "        return f\"'訂單編號': '{row['訂單編號']}', '項目': '{row['項目']}', '商店': '{row['商店']}', '類別': '{row['類別']}', '數量': {row['數量']:.2f}, '單位': '{row['單位']}', '單價': {row['單價']:.2f}, '合計': {row['合計']:.2f}\"\n",
        "    formatted_orders = data.apply(format_order, axis=1)\n",
        "    with open(output_path, 'w', encoding='utf-8') as f:\n",
        "        for order in formatted_orders:\n",
        "            f.write(order + '\\n\\n')\n",
        "    return formatted_orders.tolist()\n",
        "\n",
        "file_path = 'Excel(農產品).xlsx'\n",
        "output_path = '農產品.txt'\n",
        "formatted_details = excel(file_path, output_path)"
      ]
    }
  ]
}