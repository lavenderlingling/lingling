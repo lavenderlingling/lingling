{
  "nbformat": 4,
  "nbformat_minor": 0,
  "metadata": {
    "colab": {
      "provenance": []
    },
    "kernelspec": {
      "name": "python3",
      "display_name": "Python 3"
    },
    "language_info": {
      "name": "python"
    }
  },
  "cells": [
    {
      "cell_type": "code",
      "source": [
        "import pandas as pd\n",
        "\n",
        "def read_excel_to_dict(file_path):\n",
        "    df = pd.read_excel(file_path)\n",
        "    data_dict = df.to_dict(orient='list')\n",
        "    return data_dict\n",
        "\n",
        "file_path = 'Excel(農產品).xlsx'\n",
        "data_dict = read_excel_to_dict(file_path)\n",
        "print(data_dict)\n"
      ],
      "metadata": {
        "id": "8YaR_dp4sLJe",
        "colab": {
          "base_uri": "https://localhost:8080/"
        },
        "outputId": "45edd537-e7e7-4779-f5ea-b655a35c8770"
      },
      "execution_count": 2,
      "outputs": [
        {
          "output_type": "stream",
          "name": "stdout",
          "text": [
            "{'訂單編號': ['A0001', 'A0002', 'A0003', 'A0004', 'A0005', 'A0006', 'A0007', 'A0008', 'A0009', 'A0010', 'A0011', 'A0012', 'A0013', 'A0014', 'A0015', 'A0016', 'A0017'], '項目': ['柳橙', '雞蛋', '香蕉', '豬肉', '南瓜', '雞肉', '香菇', '豬肉', '起司', '乾酪', '蘋果', '酸奶油', '優格', '牛肉', '鮭魚', '番茄', '螃蟹'], '商店': ['雜貨', '宅配', '雜貨', '市場', '市場', '市場', '雜貨', '宅配', '宅配', '宅配', '宅配', '宅配', '雜貨', '市場', '市場', '市場', '市場'], '類別': ['農產品', '乳製品', '農產品', '肉類', '農產品', '肉類', '農產品', '肉類', '乳製品', '乳製品', '農產品', '乳製品', '乳製品', '肉類', '海鮮', '農產品', '海鮮'], '數量': [0.9, 2.0, 1.0, 2.0, 2.0, 0.45, 0.23, 3.0, 0.45, 1.0, 1.35, 1.0, 1.0, 4.5, 2.7, 1.8, 2.3], '單位': ['公斤', '打', '串', '公斤', '個', '公斤', '公斤', '公斤', '公斤', '公克', '公斤', '公克', '公克', '公斤', '公斤', '公斤', '公斤'], '單價': [89.7, 105.0, 119.7, 68.7, 45.0, 68.7, 67.5, 70.0, 299.7, 116.7, 63.0, 89.7, 149.7, 240.0, 270.0, 105.0, 330.0], '合計': [80.73, 210.0, 119.7, 137.4, 90.0, 30.915000000000003, 15.525, 210.0, 134.865, 116.7, 85.05000000000001, 89.7, 149.7, 1080.0, 729.0, 189.0, 758.9999999999999]}\n"
          ]
        }
      ]
    },
    {
      "cell_type": "code",
      "source": [],
      "metadata": {
        "id": "geoN7E7SnpQB"
      },
      "execution_count": null,
      "outputs": []
    }
  ]
}